{
 "cells": [
  {
   "cell_type": "code",
   "execution_count": 1,
   "metadata": {},
   "outputs": [],
   "source": [
    "import numpy as np\n",
    "import matplotlib.pyplot as plt\n",
    "import matplotlib as mpl\n",
    "import sys\n",
    "import os\n",
    "import pandas as pd\n",
    "import numpy as np\n",
    "from astroquery.vizier import Vizier"
   ]
  },
  {
   "cell_type": "code",
   "execution_count": null,
   "metadata": {},
   "outputs": [],
   "source": []
  },
  {
   "cell_type": "code",
   "execution_count": 23,
   "metadata": {},
   "outputs": [
    {
     "ename": "IndexError",
     "evalue": "list index out of range",
     "output_type": "error",
     "traceback": [
      "\u001b[0;31m---------------------------------------------------------------------------\u001b[0m",
      "\u001b[0;31mIndexError\u001b[0m                                Traceback (most recent call last)",
      "\u001b[1;32m/Users/lib278/Code/Python3/Primordial_Disks/astroquery_vizier_table.ipynb Cell 3\u001b[0m in \u001b[0;36m<cell line: 11>\u001b[0;34m()\u001b[0m\n\u001b[1;32m      <a href='vscode-notebook-cell:/Users/lib278/Code/Python3/Primordial_Disks/astroquery_vizier_table.ipynb#W2sZmlsZQ%3D%3D?line=7'>8</a>\u001b[0m cat_str \u001b[39m=\u001b[39m \u001b[39m'\u001b[39m\u001b[39mJ/A+A/623/A85/cooling_curves/\u001b[39m\u001b[39m'\u001b[39m\n\u001b[1;32m      <a href='vscode-notebook-cell:/Users/lib278/Code/Python3/Primordial_Disks/astroquery_vizier_table.ipynb#W2sZmlsZQ%3D%3D?line=8'>9</a>\u001b[0m cat \u001b[39m=\u001b[39m custom_vizier\u001b[39m.\u001b[39mget_catalogs(catalog\u001b[39m=\u001b[39mcat_str)\n\u001b[0;32m---> <a href='vscode-notebook-cell:/Users/lib278/Code/Python3/Primordial_Disks/astroquery_vizier_table.ipynb#W2sZmlsZQ%3D%3D?line=10'>11</a>\u001b[0m cat[\u001b[39m0\u001b[39;49m]\n\u001b[1;32m     <a href='vscode-notebook-cell:/Users/lib278/Code/Python3/Primordial_Disks/astroquery_vizier_table.ipynb#W2sZmlsZQ%3D%3D?line=12'>13</a>\u001b[0m \u001b[39m# cat_dict = ({k: v.description for k, v in cat.items()})\u001b[39;00m\n",
      "File \u001b[0;32m~/opt/anaconda3/envs/pyKLIP/lib/python3.9/site-packages/astroquery/utils/commons.py:249\u001b[0m, in \u001b[0;36mTableList.__getitem__\u001b[0;34m(self, key)\u001b[0m\n\u001b[1;32m    246\u001b[0m \u001b[39mdef\u001b[39;00m \u001b[39m__getitem__\u001b[39m(\u001b[39mself\u001b[39m, key):\n\u001b[1;32m    247\u001b[0m     \u001b[39mif\u001b[39;00m \u001b[39misinstance\u001b[39m(key, \u001b[39mint\u001b[39m):\n\u001b[1;32m    248\u001b[0m         \u001b[39m# get the value in the (key,value) pair\u001b[39;00m\n\u001b[0;32m--> 249\u001b[0m         \u001b[39mreturn\u001b[39;00m \u001b[39msuper\u001b[39;49m(TableList, \u001b[39mself\u001b[39;49m)\u001b[39m.\u001b[39;49m\u001b[39m__getitem__\u001b[39;49m(key)\n\u001b[1;32m    250\u001b[0m     \u001b[39melif\u001b[39;00m key \u001b[39min\u001b[39;00m \u001b[39mself\u001b[39m\u001b[39m.\u001b[39m_dict:\n\u001b[1;32m    251\u001b[0m         \u001b[39mreturn\u001b[39;00m \u001b[39mself\u001b[39m\u001b[39m.\u001b[39m_dict[key]\n",
      "\u001b[0;31mIndexError\u001b[0m: list index out of range"
     ]
    }
   ],
   "source": [
    "# custom_vizier = Vizier(columns=['*'])\n",
    "custom_vizier = Vizier(columns=['*'])\n",
    "custom_vizier.TIMEOUT = 10 * 60 # sets the timeout to 4 min\n",
    "custom_vizier.ROW_LIMIT = -1\n",
    "custom_vizier.COLUMN_LIMIT = -1\n",
    "custom_vizier.CATALOGUE_LIMIT = -1\n",
    "\n",
    "cat_str = 'J/A+A/623/A85/cooling_curves/'\n",
    "cat = custom_vizier.get_catalogs(catalog=cat_str)\n",
    "\n",
    "cat[0]\n",
    "\n",
    "# cat_dict = ({k: v.description for k, v in cat.items()})"
   ]
  },
  {
   "cell_type": "code",
   "execution_count": 24,
   "metadata": {},
   "outputs": [
    {
     "data": {
      "text/plain": [
       "Empty TableList"
      ]
     },
     "execution_count": 24,
     "metadata": {},
     "output_type": "execute_result"
    }
   ],
   "source": [
    "cat"
   ]
  },
  {
   "cell_type": "code",
   "execution_count": null,
   "metadata": {},
   "outputs": [],
   "source": []
  },
  {
   "cell_type": "code",
   "execution_count": null,
   "metadata": {},
   "outputs": [],
   "source": []
  },
  {
   "cell_type": "code",
   "execution_count": null,
   "metadata": {},
   "outputs": [],
   "source": []
  },
  {
   "cell_type": "code",
   "execution_count": null,
   "metadata": {},
   "outputs": [],
   "source": []
  },
  {
   "cell_type": "code",
   "execution_count": null,
   "metadata": {},
   "outputs": [],
   "source": []
  }
 ],
 "metadata": {
  "kernelspec": {
   "display_name": "pyKLIP",
   "language": "python",
   "name": "python3"
  },
  "language_info": {
   "codemirror_mode": {
    "name": "ipython",
    "version": 3
   },
   "file_extension": ".py",
   "mimetype": "text/x-python",
   "name": "python",
   "nbconvert_exporter": "python",
   "pygments_lexer": "ipython3",
   "version": "3.9.16 | packaged by conda-forge | (main, Feb  1 2023, 21:42:20) \n[Clang 14.0.6 ]"
  },
  "orig_nbformat": 4,
  "vscode": {
   "interpreter": {
    "hash": "400fa321f4b4e1355aaa3e293836dfaa3e2be346b9bde8c8443fb8a84ac478bc"
   }
  }
 },
 "nbformat": 4,
 "nbformat_minor": 2
}
