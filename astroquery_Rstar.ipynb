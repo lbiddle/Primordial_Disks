{
 "cells": [
  {
   "cell_type": "code",
   "execution_count": null,
   "metadata": {},
   "outputs": [],
   "source": [
    "import numpy as np\n",
    "import matplotlib.pyplot as plt\n",
    "import matplotlib as mpl\n",
    "import sys\n",
    "import os\n",
    "import pandas as pd\n",
    "import numpy as np\n",
    "import astropy.units as u\n",
    "from datetime import date\n",
    "from astroquery.simbad import Simbad\n",
    "from astroquery.vizier import Vizier\n",
    "from astroquery import nasa_ads as na"
   ]
  },
  {
   "cell_type": "code",
   "execution_count": null,
   "metadata": {},
   "outputs": [],
   "source": [
    "def unique(list_of_values):\n",
    "    unique_values = []\n",
    "    for _, value in enumerate(list_of_values):\n",
    "        if value in unique_values:\n",
    "            pass\n",
    "        else:\n",
    "            unique_values.append(value)\n",
    "    return unique_values"
   ]
  },
  {
   "cell_type": "code",
   "execution_count": null,
   "metadata": {},
   "outputs": [
    {
     "name": "stdout",
     "output_type": "stream",
     "text": [
      "367\n"
     ]
    }
   ],
   "source": [
    "primordial_disks_directory = '/Users/lib278/Documents/Manuscripts/PRIMORDIAL_DISKS/'\n",
    "primordial_disks_sample_directory = primordial_disks_directory+'Tables/Condensed_Sample_By_Date/'\n",
    "\n",
    "today = date.today()\n",
    "date_str = today.strftime(\"%Y-%b-%d\")\n",
    "date_str\n",
    "\n",
    "sheet_url = \"https://docs.google.com/spreadsheets/d/1xuMXHVTw3_iwn3tgzBoIaXaMP81ULbpIURthZyvs7iw/edit#gid=0\"\n",
    "url_1 = sheet_url.replace('/edit#gid=', '/export?format=csv&gid=')\n",
    "raw_df = pd.read_csv(url_1)\n",
    "\n",
    "targets_for_query = unique(raw_df['Target'].values)\n",
    "print(len(targets_for_query))\n",
    "targ_list = unique(raw_df['Target'].values)"
   ]
  },
  {
   "cell_type": "code",
   "execution_count": null,
   "metadata": {},
   "outputs": [],
   "source": [
    "customSimbad = Simbad()\n",
    "customSimbad.add_votable_fields('ra(2;A;ICRS;J2017.5;2000)', 'dec(2;D;ICRS;J2017.5;2000)')\n",
    "customSimbad.remove_votable_fields('coordinates')\n",
    "customSimbad.TIMEOUT = 4 * 60 # sets the timeout to 4 min\n",
    "customSimbad.ROW_LIMIT = -1\n",
    "\n",
    "# v = Vizier(columns=['_RAJ2000', '_DEJ2000','B-V', 'Vmag', 'Plx'],\n",
    "#            column_filters={\"Vmag\":\">10\"}, keywords=[\"optical\", \"xry\"])\n",
    "\n",
    "custom_vizier = Vizier(columns=['*'])\n",
    "custom_vizier.TIMEOUT = 10 * 60 # sets the timeout to 4 min\n",
    "custom_vizier.ROW_LIMIT = -1\n",
    "custom_vizier.COLUMN_LIMIT = -1\n",
    "custom_vizier.CATALOGUE_LIMIT = -1"
   ]
  },
  {
   "cell_type": "code",
   "execution_count": 5,
   "metadata": {},
   "outputs": [],
   "source": [
    "target = 'AA Tau'\n",
    "alternate_IDs = customSimbad.query_objectids(target)\n",
    "Simbad_search = customSimbad.query_object(target)\n",
    "main_ID = Simbad_search[Simbad_search.keys()[0]][0]\n",
    "RA = Simbad_search[Simbad_search.keys()[1]][0]\n",
    "DEC = Simbad_search[Simbad_search.keys()[2]][0]\n",
    "print(main_ID, '|', RA, '|', DEC)"
   ]
  },
  {
   "cell_type": "code",
   "execution_count": 6,
   "metadata": {},
   "outputs": [],
   "source": [
    "# result = custom_vizier.query_object(target)\n",
    "# tables = result.keys()\n",
    "# str(result[tables[272]].columns['vsini'].unit)"
   ]
  },
  {
   "cell_type": "code",
   "execution_count": 7,
   "metadata": {},
   "outputs": [],
   "source": [
    "# cat_split = [part for x in result[tables[-1]].meta['name'].split('/') for part in (x, '/')]\n",
    "# cat_name = cat_split[0]\n",
    "# for part_i in range(1, len(cat_split)-3):\n",
    "#     cat_name += cat_split[part_i]\n",
    "# # cat = custom_vizier.find_catalogs(cat_name)\n",
    "# cat = custom_vizier.find_catalogs(cat_name, max_catalogs=1e6)\n",
    "\n",
    "# # result.format_table_list()  # .split(',')\n",
    "# # result.values()[272].meta['name']\n",
    "# # result.print_table_list()\n",
    "# cat_dict = ({k: v.description for k, v in cat.items()})\n",
    "# cat_title = cat_dict[cat_name].split(' (')[0]\n",
    "# cat_author = cat_dict[cat_name].split(' (')[1].split('+')[0]\n",
    "# cat_year = cat_dict[cat_name].split(' (')[1].split(', ')[1][0:-1]\n",
    "# cat_year"
   ]
  },
  {
   "cell_type": "code",
   "execution_count": 8,
   "metadata": {},
   "outputs": [],
   "source": [
    "# na.ADS.TOKEN = 'kRJ0yK4fcG45mR6a6A27vN2kosc8KnNfZ3zH7THa'\n",
    "\n",
    "\n",
    "# ads_search_string = 'J/A+A/378/116/'\n",
    "# ads_search_string = '^' + cat_author\n",
    "\n",
    "# ads_search_string = \"author:'^\" + cat_author + \"'\"  #  abs:'\" + cat_title + \"'\"   # \"' year:'\" + cat_year + \"'\"   \n",
    "# ads_search_string = \"title:'\" + cat_title + \"'\" \n",
    "# print(ads_search_string)\n",
    "\n",
    "# # # na.ADS.ADS_FIELDS = \n",
    "# ADS_query = na.ADS.query_simple(ads_search_string)\n",
    "# ADS_query['pubdate']"
   ]
  },
  {
   "cell_type": "code",
   "execution_count": 9,
   "metadata": {},
   "outputs": [],
   "source": [
    "Rstar_chars = ['Rad', 'rad', 'Radius', 'radius', 'R*', 'r*', 'Rstar', 'rstar', 'R_star', 'r_star', 'R', 'r']\n",
    "vsini_chars = ['Vsini','vsini','v_sini','V_sini','vsin_i','Vsin_i','v_sin_i','V_sin_i','vsin(i)','Vsin(i)','v_sin(i)','V_sin(i)']"
   ]
  },
  {
   "cell_type": "code",
   "execution_count": 10,
   "metadata": {},
   "outputs": [],
   "source": [
    "nodat_targs = {}\n",
    "nodat_targs = {'vsini': [],\n",
    "               'Rstar': [],\n",
    "               'Prot': [],\n",
    "               }"
   ]
  },
  {
   "cell_type": "code",
   "execution_count": 12,
   "metadata": {},
   "outputs": [
    {
     "name": "stdout",
     "output_type": "stream",
     "text": [
      "['V* CV Cha', 'V* CI Tau', 'V* AB Aur', '', 'NAME CoKu Tau 1', '2MASS J03285129+3117397', 'V* CW Tau', 'Hen 3-545', 'Haro 5-64', 'V* AK Sco', 'V* AA Tau', 'CRBR 2422', 'V* CQ Tau', 'V* CX Tau', 'IRAS 11051-7706', 'V* CY Tau', '[CCE98] 1-46', 'V* BP Tau', 'V* CS Cha']\n",
      "\n",
      "Unresolved: AS 205B\n",
      "\n",
      "Unresolved: IRAS 19347+0727\n",
      " \n",
      "CRBR 2422.8-3423 | 16 27 24.5975 | -24 41 03.772\n"
     ]
    },
    {
     "name": "stderr",
     "output_type": "stream",
     "text": [
      "/Users/lib278/opt/anaconda3/envs/pyKLIP/lib/python3.9/site-packages/astroquery/simbad/core.py:135: UserWarning: Warning: The script line number 2 raised an error (recorded in the `errors` attribute of the result table): Identifier not found in the database : EM* AS  205B\n",
      "  warnings.warn(\"Warning: The script line number %i raised \"\n",
      "/Users/lib278/opt/anaconda3/envs/pyKLIP/lib/python3.9/site-packages/astroquery/simbad/core.py:135: UserWarning: Warning: The script line number 3 raised an error (recorded in the `errors` attribute of the result table): Identifier not found in the database : EM* AS  205B\n",
      "  warnings.warn(\"Warning: The script line number %i raised \"\n",
      "/Users/lib278/opt/anaconda3/envs/pyKLIP/lib/python3.9/site-packages/astroquery/simbad/core.py:135: UserWarning: Warning: The script line number 2 raised an error (recorded in the `errors` attribute of the result table): Identifier not found in the database : IRAS 19347+0727\n",
      "  warnings.warn(\"Warning: The script line number %i raised \"\n",
      "/Users/lib278/opt/anaconda3/envs/pyKLIP/lib/python3.9/site-packages/astroquery/simbad/core.py:135: UserWarning: Warning: The script line number 3 raised an error (recorded in the `errors` attribute of the result table): Identifier not found in the database : IRAS 19347+0727\n",
      "  warnings.warn(\"Warning: The script line number %i raised \"\n",
      "WARNING: UnitsWarning: The unit 'pix' has been deprecated in the VOUnit standard. [astropy.units.format.utils]\n",
      "WARNING: UnitsWarning: The unit 'ct' has been deprecated in the VOUnit standard. [astropy.units.format.utils]\n",
      "WARNING: UnitsWarning: Unit 'Sun' not supported by the VOUnit standard. Did you mean uN? [astropy.units.format.vounit]\n",
      "WARNING: UnitsWarning: Unit 'pct' not supported by the VOUnit standard. Did you mean 1e+15count, PC, PT, Pct (deprecated), pC, pT or pc? [astropy.units.format.vounit]\n",
      "WARNING: UnitsWarning: The unit 'ph' has been deprecated in the VOUnit standard. [astropy.units.format.utils]\n",
      "WARNING: UnitsWarning: Unit 'x' not supported by the VOUnit standard.  [astropy.units.format.vounit]\n",
      "WARNING: UnitsWarning: Unit 'Earth' not supported by the VOUnit standard.  [astropy.units.format.vounit]\n",
      "WARNING: UnitsWarning: The unit 'kct' has been deprecated in the VOUnit standard. Suggested: 1000count. [astropy.units.format.utils]\n",
      "WARNING: UnitsWarning: The unit 'au' has been deprecated in the VOUnit standard. Suggested: 1.4959787e+11m. [astropy.units.format.utils]\n",
      "WARNING: UnitsWarning: Unit 'Mjup' not supported by the VOUnit standard.  [astropy.units.format.vounit]\n",
      "WARNING: UnitsWarning: Unit 'Rjup' not supported by the VOUnit standard.  [astropy.units.format.vounit]\n",
      "WARNING: UnitsWarning: The unit 'G' has been deprecated in the VOUnit standard. Suggested: 0.0001T. [astropy.units.format.utils]\n",
      "WARNING: UnitsWarning: The unit 'ct' has been deprecated in the VOUnit standard. [astropy.units.format.utils]\n",
      "WARNING: UnitsWarning: Unit 'x' not supported by the VOUnit standard.  [astropy.units.format.vounit]\n",
      "WARNING: UnitsWarning: Unit 'Sun' not supported by the VOUnit standard. Did you mean uN? [astropy.units.format.vounit]\n",
      "WARNING: UnitsWarning: Unit 'Earth' not supported by the VOUnit standard.  [astropy.units.format.vounit]\n",
      "WARNING: UnitsWarning: The unit 'pix' has been deprecated in the VOUnit standard. [astropy.units.format.utils]\n",
      "WARNING: UnitsWarning: The unit 'ct' has been deprecated in the VOUnit standard. [astropy.units.format.utils]\n",
      "WARNING: UnitsWarning: Unit 'x' not supported by the VOUnit standard.  [astropy.units.format.vounit]\n",
      "WARNING: UnitsWarning: Unit 'Sun' not supported by the VOUnit standard. Did you mean uN? [astropy.units.format.vounit]\n",
      "WARNING: UnitsWarning: Unit 'Earth' not supported by the VOUnit standard.  [astropy.units.format.vounit]\n",
      "WARNING: UnitsWarning: The unit 'pix' has been deprecated in the VOUnit standard. [astropy.units.format.utils]\n",
      "WARNING: UnitsWarning: The unit 'ct' has been deprecated in the VOUnit standard. [astropy.units.format.utils]\n",
      "WARNING: UnitsWarning: Unit 'x' not supported by the VOUnit standard.  [astropy.units.format.vounit]\n",
      "WARNING: UnitsWarning: Unit 'Sun' not supported by the VOUnit standard. Did you mean uN? [astropy.units.format.vounit]\n",
      "WARNING: UnitsWarning: Unit 'Earth' not supported by the VOUnit standard.  [astropy.units.format.vounit]\n",
      "WARNING: UnitsWarning: The unit 'pix' has been deprecated in the VOUnit standard. [astropy.units.format.utils]\n",
      "WARNING: UnitsWarning: The unit 'ct' has been deprecated in the VOUnit standard. [astropy.units.format.utils]\n",
      "WARNING: UnitsWarning: Unit 'x' not supported by the VOUnit standard.  [astropy.units.format.vounit]\n",
      "WARNING: UnitsWarning: Unit 'Sun' not supported by the VOUnit standard. Did you mean uN? [astropy.units.format.vounit]\n",
      "WARNING: UnitsWarning: Unit 'Earth' not supported by the VOUnit standard.  [astropy.units.format.vounit]\n",
      "WARNING: UnitsWarning: The unit 'pix' has been deprecated in the VOUnit standard. [astropy.units.format.utils]\n",
      "WARNING: UnitsWarning: The unit 'a' has been deprecated in the VOUnit standard. Suggested: 365.25d. [astropy.units.format.utils]\n",
      "WARNING: UnitsWarning: The unit 'ha' has been deprecated in the VOUnit standard. Suggested: 100a. [astropy.units.format.utils]\n",
      "WARNING: UnitsWarning: The unit 'pix' has been deprecated in the VOUnit standard. [astropy.units.format.utils]\n",
      "WARNING: UnitsWarning: The unit 'ct' has been deprecated in the VOUnit standard. [astropy.units.format.utils]\n",
      "WARNING: UnitsWarning: Unit 'MJD' not supported by the VOUnit standard. Did you mean MD, MJ, Md, mD, mJ or md? [astropy.units.format.vounit]\n",
      "WARNING: UnitsWarning: Unit 'JD' not supported by the VOUnit standard.  [astropy.units.format.vounit]\n",
      "WARNING: UnitsWarning: Unit 'Sun' not supported by the VOUnit standard. Did you mean uN? [astropy.units.format.vounit]\n",
      "WARNING: UnitsWarning: Unit 'e' not supported by the VOUnit standard.  [astropy.units.format.vounit]\n",
      "WARNING: UnitsWarning: The unit 'au' has been deprecated in the VOUnit standard. Suggested: 1.4959787e+11m. [astropy.units.format.utils]\n",
      "/Users/lib278/opt/anaconda3/envs/pyKLIP/lib/python3.9/site-packages/astroquery/vizier/core.py:769: UserWarning: VOTABLE parsing raised exception: 73512:4: not well-formed (invalid token)\n",
      "  warnings.warn(\"VOTABLE parsing raised exception: {0}\".format(ex))\n",
      "WARNING: UnitsWarning: The unit 'a' has been deprecated in the VOUnit standard. Suggested: 365.25d. [astropy.units.format.utils]\n",
      "WARNING: UnitsWarning: The unit 'ha' has been deprecated in the VOUnit standard. Suggested: 100a. [astropy.units.format.utils]\n",
      "WARNING: UnitsWarning: The unit 'pix' has been deprecated in the VOUnit standard. [astropy.units.format.utils]\n",
      "WARNING: UnitsWarning: The unit 'ct' has been deprecated in the VOUnit standard. [astropy.units.format.utils]\n",
      "WARNING: UnitsWarning: Unit 'MJD' not supported by the VOUnit standard. Did you mean MD, MJ, Md, mD, mJ or md? [astropy.units.format.vounit]\n",
      "WARNING: UnitsWarning: Unit 'JD' not supported by the VOUnit standard.  [astropy.units.format.vounit]\n",
      "WARNING: UnitsWarning: Unit 'Sun' not supported by the VOUnit standard. Did you mean uN? [astropy.units.format.vounit]\n",
      "WARNING: UnitsWarning: Unit 'e' not supported by the VOUnit standard.  [astropy.units.format.vounit]\n",
      "WARNING: UnitsWarning: The unit 'au' has been deprecated in the VOUnit standard. Suggested: 1.4959787e+11m. [astropy.units.format.utils]\n",
      "/Users/lib278/opt/anaconda3/envs/pyKLIP/lib/python3.9/site-packages/astroquery/vizier/core.py:769: UserWarning: VOTABLE parsing raised exception: 73512:4: not well-formed (invalid token)\n",
      "  warnings.warn(\"VOTABLE parsing raised exception: {0}\".format(ex))\n",
      "WARNING: UnitsWarning: The unit 'au' has been deprecated in the VOUnit standard. Suggested: 1.4959787e+11m. [astropy.units.format.utils]\n",
      "WARNING: UnitsWarning: The unit 'au' has been deprecated in the VOUnit standard. Suggested: 1.4959787e+11m. [astropy.units.format.utils]\n",
      "/Users/lib278/opt/anaconda3/envs/pyKLIP/lib/python3.9/site-packages/astroquery/simbad/core.py:135: UserWarning: Warning: The script line number 2 raised an error (recorded in the `errors` attribute of the result table): 'DD Tau A': No known catalog could be found\n",
      "  warnings.warn(\"Warning: The script line number %i raised \"\n",
      "/Users/lib278/opt/anaconda3/envs/pyKLIP/lib/python3.9/site-packages/astroquery/simbad/core.py:135: UserWarning: Warning: The script line number 3 raised an error (recorded in the `errors` attribute of the result table): 'DD Tau A': No known catalog could be found\n",
      "  warnings.warn(\"Warning: The script line number %i raised \"\n"
     ]
    },
    {
     "name": "stdout",
     "output_type": "stream",
     "text": [
      "----------------------------------------------------------------\n",
      "\n",
      "Unresolved: DD Tau A\n",
      " \n",
      "V* DE Tau | 04 21 55.6488 | +27 55 05.708\n"
     ]
    },
    {
     "name": "stderr",
     "output_type": "stream",
     "text": [
      "WARNING: UnitsWarning: The unit 'pix' has been deprecated in the VOUnit standard. [astropy.units.format.utils]\n",
      "WARNING: UnitsWarning: The unit 'ct' has been deprecated in the VOUnit standard. [astropy.units.format.utils]\n",
      "WARNING: UnitsWarning: Unit 'Sun' not supported by the VOUnit standard. Did you mean uN? [astropy.units.format.vounit]\n",
      "WARNING: UnitsWarning: Unit 'pct' not supported by the VOUnit standard. Did you mean 1e+15count, PC, PT, Pct (deprecated), pC, pT or pc? [astropy.units.format.vounit]\n",
      "WARNING: UnitsWarning: The unit 'ph' has been deprecated in the VOUnit standard. [astropy.units.format.utils]\n",
      "WARNING: UnitsWarning: Unit 'x' not supported by the VOUnit standard.  [astropy.units.format.vounit]\n",
      "WARNING: UnitsWarning: Unit 'muHz' not supported by the VOUnit standard. Did you mean MHz, mHz or uHz? [astropy.units.format.vounit]\n",
      "WARNING: UnitsWarning: The unit 'au' has been deprecated in the VOUnit standard. Suggested: 1.4959787e+11m. [astropy.units.format.utils]\n",
      "WARNING: UnitsWarning: The unit 'ct' has been deprecated in the VOUnit standard. [astropy.units.format.utils]\n",
      "WARNING: UnitsWarning: Unit 'x' not supported by the VOUnit standard.  [astropy.units.format.vounit]\n",
      "WARNING: UnitsWarning: Unit 'Sun' not supported by the VOUnit standard. Did you mean uN? [astropy.units.format.vounit]\n",
      "WARNING: UnitsWarning: Unit 'Earth' not supported by the VOUnit standard.  [astropy.units.format.vounit]\n",
      "WARNING: UnitsWarning: The unit 'pix' has been deprecated in the VOUnit standard. [astropy.units.format.utils]\n",
      "WARNING: UnitsWarning: The unit 'ct' has been deprecated in the VOUnit standard. [astropy.units.format.utils]\n",
      "WARNING: UnitsWarning: Unit 'x' not supported by the VOUnit standard.  [astropy.units.format.vounit]\n",
      "WARNING: UnitsWarning: Unit 'Sun' not supported by the VOUnit standard. Did you mean uN? [astropy.units.format.vounit]\n",
      "WARNING: UnitsWarning: Unit 'Earth' not supported by the VOUnit standard.  [astropy.units.format.vounit]\n",
      "WARNING: UnitsWarning: The unit 'pix' has been deprecated in the VOUnit standard. [astropy.units.format.utils]\n",
      "WARNING: UnitsWarning: The unit 'ct' has been deprecated in the VOUnit standard. [astropy.units.format.utils]\n",
      "WARNING: UnitsWarning: Unit 'x' not supported by the VOUnit standard.  [astropy.units.format.vounit]\n",
      "WARNING: UnitsWarning: Unit 'Sun' not supported by the VOUnit standard. Did you mean uN? [astropy.units.format.vounit]\n",
      "WARNING: UnitsWarning: Unit 'Earth' not supported by the VOUnit standard.  [astropy.units.format.vounit]\n",
      "WARNING: UnitsWarning: The unit 'pix' has been deprecated in the VOUnit standard. [astropy.units.format.utils]\n",
      "WARNING: UnitsWarning: The unit 'ct' has been deprecated in the VOUnit standard. [astropy.units.format.utils]\n",
      "WARNING: UnitsWarning: Unit 'x' not supported by the VOUnit standard.  [astropy.units.format.vounit]\n",
      "WARNING: UnitsWarning: Unit 'Sun' not supported by the VOUnit standard. Did you mean uN? [astropy.units.format.vounit]\n",
      "WARNING: UnitsWarning: Unit 'Earth' not supported by the VOUnit standard.  [astropy.units.format.vounit]\n",
      "WARNING: UnitsWarning: The unit 'pix' has been deprecated in the VOUnit standard. [astropy.units.format.utils]\n",
      "WARNING: UnitsWarning: The unit 'a' has been deprecated in the VOUnit standard. Suggested: 365.25d. [astropy.units.format.utils]\n",
      "WARNING: UnitsWarning: The unit 'pix' has been deprecated in the VOUnit standard. [astropy.units.format.utils]\n",
      "WARNING: UnitsWarning: The unit 'ct' has been deprecated in the VOUnit standard. [astropy.units.format.utils]\n",
      "WARNING: UnitsWarning: Unit 'Sun' not supported by the VOUnit standard. Did you mean uN? [astropy.units.format.vounit]\n",
      "/Users/lib278/opt/anaconda3/envs/pyKLIP/lib/python3.9/site-packages/astroquery/vizier/core.py:769: UserWarning: VOTABLE parsing raised exception: 46084:4: not well-formed (invalid token)\n",
      "  warnings.warn(\"VOTABLE parsing raised exception: {0}\".format(ex))\n"
     ]
    },
    {
     "name": "stdout",
     "output_type": "stream",
     "text": [
      "----------------------------------------------------------------\n",
      " \n",
      "V* DF Tau | 04 27 02.7960 | +25 42 21.990\n"
     ]
    },
    {
     "name": "stderr",
     "output_type": "stream",
     "text": [
      "WARNING: UnitsWarning: The unit 'a' has been deprecated in the VOUnit standard. Suggested: 365.25d. [astropy.units.format.utils]\n",
      "WARNING: UnitsWarning: The unit 'pix' has been deprecated in the VOUnit standard. [astropy.units.format.utils]\n",
      "WARNING: UnitsWarning: The unit 'ct' has been deprecated in the VOUnit standard. [astropy.units.format.utils]\n",
      "WARNING: UnitsWarning: Unit 'Sun' not supported by the VOUnit standard. Did you mean uN? [astropy.units.format.vounit]\n",
      "WARNING: UnitsWarning: Unit 'pct' not supported by the VOUnit standard. Did you mean 1e+15count, PC, PT, Pct (deprecated), pC, pT or pc? [astropy.units.format.vounit]\n",
      "WARNING: UnitsWarning: Unit 'x' not supported by the VOUnit standard.  [astropy.units.format.vounit]\n",
      "WARNING: UnitsWarning: The unit 'au' has been deprecated in the VOUnit standard. Suggested: 1.4959787e+11m. [astropy.units.format.utils]\n",
      "WARNING: UnitsWarning: Unit 'hr' not supported by the VOUnit standard. Did you mean hR, hsr or hyr? [astropy.units.format.vounit]\n",
      "WARNING: UnitsWarning: Unit 'Mjup' not supported by the VOUnit standard.  [astropy.units.format.vounit]\n",
      "WARNING: UnitsWarning: Unit 'muHz' not supported by the VOUnit standard. Did you mean MHz, mHz or uHz? [astropy.units.format.vounit]\n",
      "WARNING: UnitsWarning: Unit 'al' not supported by the VOUnit standard. Did you mean alm or alx? [astropy.units.format.vounit]\n",
      "WARNING: UnitsWarning: The unit 'G' has been deprecated in the VOUnit standard. Suggested: 0.0001T. [astropy.units.format.utils]\n",
      "WARNING: UnitsWarning: The unit 'ct' has been deprecated in the VOUnit standard. [astropy.units.format.utils]\n",
      "WARNING: UnitsWarning: Unit 'x' not supported by the VOUnit standard.  [astropy.units.format.vounit]\n",
      "WARNING: UnitsWarning: Unit 'Sun' not supported by the VOUnit standard. Did you mean uN? [astropy.units.format.vounit]\n",
      "WARNING: UnitsWarning: Unit 'Earth' not supported by the VOUnit standard.  [astropy.units.format.vounit]\n",
      "WARNING: UnitsWarning: The unit 'pix' has been deprecated in the VOUnit standard. [astropy.units.format.utils]\n",
      "WARNING: UnitsWarning: The unit 'ct' has been deprecated in the VOUnit standard. [astropy.units.format.utils]\n",
      "WARNING: UnitsWarning: Unit 'x' not supported by the VOUnit standard.  [astropy.units.format.vounit]\n",
      "WARNING: UnitsWarning: Unit 'Sun' not supported by the VOUnit standard. Did you mean uN? [astropy.units.format.vounit]\n",
      "WARNING: UnitsWarning: Unit 'Earth' not supported by the VOUnit standard.  [astropy.units.format.vounit]\n",
      "WARNING: UnitsWarning: The unit 'pix' has been deprecated in the VOUnit standard. [astropy.units.format.utils]\n",
      "WARNING: UnitsWarning: The unit 'ct' has been deprecated in the VOUnit standard. [astropy.units.format.utils]\n",
      "WARNING: UnitsWarning: Unit 'x' not supported by the VOUnit standard.  [astropy.units.format.vounit]\n",
      "WARNING: UnitsWarning: Unit 'Sun' not supported by the VOUnit standard. Did you mean uN? [astropy.units.format.vounit]\n",
      "WARNING: UnitsWarning: Unit 'Earth' not supported by the VOUnit standard.  [astropy.units.format.vounit]\n",
      "WARNING: UnitsWarning: The unit 'pix' has been deprecated in the VOUnit standard. [astropy.units.format.utils]\n",
      "WARNING: UnitsWarning: The unit 'ct' has been deprecated in the VOUnit standard. [astropy.units.format.utils]\n",
      "WARNING: UnitsWarning: Unit 'x' not supported by the VOUnit standard.  [astropy.units.format.vounit]\n",
      "WARNING: UnitsWarning: Unit 'Sun' not supported by the VOUnit standard. Did you mean uN? [astropy.units.format.vounit]\n",
      "WARNING: UnitsWarning: Unit 'Earth' not supported by the VOUnit standard.  [astropy.units.format.vounit]\n",
      "WARNING: UnitsWarning: The unit 'pix' has been deprecated in the VOUnit standard. [astropy.units.format.utils]\n"
     ]
    },
    {
     "name": "stdout",
     "output_type": "stream",
     "text": [
      "----------------------------------------------------------------\n",
      " \n",
      "V* DG Tau | 04 27 04.6992 | +26 06 15.701\n"
     ]
    },
    {
     "name": "stderr",
     "output_type": "stream",
     "text": [
      "WARNING: UnitsWarning: The unit 'a' has been deprecated in the VOUnit standard. Suggested: 365.25d. [astropy.units.format.utils]\n",
      "WARNING: UnitsWarning: The unit 'pix' has been deprecated in the VOUnit standard. [astropy.units.format.utils]\n",
      "WARNING: UnitsWarning: The unit 'ct' has been deprecated in the VOUnit standard. [astropy.units.format.utils]\n",
      "WARNING: UnitsWarning: Unit 'Sun' not supported by the VOUnit standard. Did you mean uN? [astropy.units.format.vounit]\n",
      "WARNING: UnitsWarning: Unit 'pct' not supported by the VOUnit standard. Did you mean 1e+15count, PC, PT, Pct (deprecated), pC, pT or pc? [astropy.units.format.vounit]\n",
      "WARNING: UnitsWarning: The unit 'ph' has been deprecated in the VOUnit standard. [astropy.units.format.utils]\n",
      "WARNING: UnitsWarning: Unit 'x' not supported by the VOUnit standard.  [astropy.units.format.vounit]\n",
      "WARNING: UnitsWarning: Unit 'sec' not supported by the VOUnit standard. Did you mean EC? [astropy.units.format.vounit]\n",
      "WARNING: UnitsWarning: Unit 'hr' not supported by the VOUnit standard. Did you mean hR, hsr or hyr? [astropy.units.format.vounit]\n",
      "WARNING: UnitsWarning: The unit 'ct' has been deprecated in the VOUnit standard. [astropy.units.format.utils]\n",
      "WARNING: UnitsWarning: Unit 'x' not supported by the VOUnit standard.  [astropy.units.format.vounit]\n",
      "WARNING: UnitsWarning: Unit 'Sun' not supported by the VOUnit standard. Did you mean uN? [astropy.units.format.vounit]\n",
      "WARNING: UnitsWarning: Unit 'Earth' not supported by the VOUnit standard.  [astropy.units.format.vounit]\n",
      "WARNING: UnitsWarning: The unit 'pix' has been deprecated in the VOUnit standard. [astropy.units.format.utils]\n",
      "WARNING: UnitsWarning: The unit 'ct' has been deprecated in the VOUnit standard. [astropy.units.format.utils]\n",
      "WARNING: UnitsWarning: Unit 'x' not supported by the VOUnit standard.  [astropy.units.format.vounit]\n",
      "WARNING: UnitsWarning: Unit 'Sun' not supported by the VOUnit standard. Did you mean uN? [astropy.units.format.vounit]\n",
      "WARNING: UnitsWarning: Unit 'Earth' not supported by the VOUnit standard.  [astropy.units.format.vounit]\n",
      "WARNING: UnitsWarning: The unit 'pix' has been deprecated in the VOUnit standard. [astropy.units.format.utils]\n",
      "WARNING: UnitsWarning: The unit 'ct' has been deprecated in the VOUnit standard. [astropy.units.format.utils]\n",
      "WARNING: UnitsWarning: Unit 'x' not supported by the VOUnit standard.  [astropy.units.format.vounit]\n",
      "WARNING: UnitsWarning: Unit 'Sun' not supported by the VOUnit standard. Did you mean uN? [astropy.units.format.vounit]\n",
      "WARNING: UnitsWarning: Unit 'Earth' not supported by the VOUnit standard.  [astropy.units.format.vounit]\n",
      "WARNING: UnitsWarning: The unit 'pix' has been deprecated in the VOUnit standard. [astropy.units.format.utils]\n",
      "WARNING: UnitsWarning: The unit 'ct' has been deprecated in the VOUnit standard. [astropy.units.format.utils]\n",
      "WARNING: UnitsWarning: Unit 'x' not supported by the VOUnit standard.  [astropy.units.format.vounit]\n",
      "WARNING: UnitsWarning: Unit 'Sun' not supported by the VOUnit standard. Did you mean uN? [astropy.units.format.vounit]\n",
      "WARNING: UnitsWarning: Unit 'Earth' not supported by the VOUnit standard.  [astropy.units.format.vounit]\n",
      "WARNING: UnitsWarning: The unit 'pix' has been deprecated in the VOUnit standard. [astropy.units.format.utils]\n",
      "WARNING: UnitsWarning: The unit 'a' has been deprecated in the VOUnit standard. Suggested: 365.25d. [astropy.units.format.utils]\n",
      "WARNING: UnitsWarning: The unit 'pix' has been deprecated in the VOUnit standard. [astropy.units.format.utils]\n",
      "WARNING: UnitsWarning: The unit 'ct' has been deprecated in the VOUnit standard. [astropy.units.format.utils]\n",
      "WARNING: UnitsWarning: Unit 'Sun' not supported by the VOUnit standard. Did you mean uN? [astropy.units.format.vounit]\n",
      "/Users/lib278/opt/anaconda3/envs/pyKLIP/lib/python3.9/site-packages/astroquery/vizier/core.py:769: UserWarning: VOTABLE parsing raised exception: 46084:4: not well-formed (invalid token)\n",
      "  warnings.warn(\"VOTABLE parsing raised exception: {0}\".format(ex))\n"
     ]
    }
   ],
   "source": [
    "query_par = 'Rstar\n",
    "save_dir = primordial_disks_directory + 'Tables/astroquery/' + query_par + '/'\n",
    "\n",
    "skip_targs = []\n",
    "for file in os.listdir(save_dir):\n",
    "    skip_targs.append(file.split('.')[0])\n",
    "print(skip_targs)\n",
    "\n",
    "unresolved_targs = []\n",
    "\n",
    "\n",
    "for targ in targ_list:\n",
    "    Simbad_search = customSimbad.query_object(targ)\n",
    "    try:\n",
    "        target = Simbad_search[Simbad_search.keys()[0]][0]\n",
    "    except:\n",
    "        unresolved_targs.append(targ)\n",
    "        print('\\nUnresolved: ' + str(unresolved_targs))\n",
    "        continue\n",
    "\n",
    "    RA = Simbad_search[Simbad_search.keys()[1]][0]\n",
    "    DEC = Simbad_search[Simbad_search.keys()[2]][0]\n",
    "\n",
    "    if target in skip_targs:\n",
    "        continue\n",
    "    if target in nodat_targs[query_par]:\n",
    "        continue\n",
    "\n",
    "    alternate_IDs = customSimbad.query_objectids(targ)['ID']\n",
    "    for alt_ID_i, alt_ID in enumerate(alternate_IDs):\n",
    "        if alt_ID != target:\n",
    "            if 'alt_ID_str' not in locals():\n",
    "                alt_ID_str = alt_ID + ','\n",
    "            else:\n",
    "                alt_ID_str += alt_ID + ','\n",
    "        if '2MASS' in alt_ID:\n",
    "            twoMASS = alt_ID\n",
    "            \n",
    "    print(' ')\n",
    "    print(target, '|', RA, '|', DEC)\n",
    "\n",
    "    result = custom_vizier.query_object(target)\n",
    "    tables = result.keys()\n",
    "\n",
    "    cat_data = {}\n",
    "    cat_data = {'target': [],\n",
    "                'RA': [],\n",
    "                'DEC': [],\n",
    "                'col_chars': [],\n",
    "                'columns': [],\n",
    "                'units': [],\n",
    "                'values': [],\n",
    "                'descriptions': [],\n",
    "                'catalogues': [],\n",
    "                'titles': [],\n",
    "                'meta': [],\n",
    "                '2MASS': [],\n",
    "                'altIDs': [],\n",
    "                }\n",
    "    for tab in range(len(tables)):\n",
    "        meta = []\n",
    "        columns = []\n",
    "        values = []\n",
    "        units = []\n",
    "        descriptions = []\n",
    "        catalogues = []\n",
    "        titles = []\n",
    "        for bep in range(len(result[tables[tab]].columns)):\n",
    "            column = str(result[tables[tab]].columns[bep].name)\n",
    "            unit = str(result[tables[tab]].columns[bep].unit)\n",
    "            meta = result[tables[tab]].meta\n",
    "\n",
    "            for col_char in vsini_chars:\n",
    "                if ('km / s' in unit) and (col_char in column):\n",
    "                    cat_split = [part for x in result[tables[tab]].meta['name'].split('/') for part in (x, '/')]\n",
    "                    cat_name = cat_split[0]\n",
    "                    for part_i in range(1, len(cat_split)-3):\n",
    "                        cat_name += cat_split[part_i]\n",
    "                    try:\n",
    "                        cat = custom_vizier.find_catalogs(keywords=cat_name, max_catalogs=1e6)\n",
    "                    except:\n",
    "                        continue\n",
    "                    cat_dict = ({k: v.description for k, v in cat.items()})\n",
    "                    cat_data['target'].append(target)\n",
    "                    cat_data['RA'].append(RA)\n",
    "                    cat_data['DEC'].append(DEC)\n",
    "                    cat_data['columns'].append(result[tables[tab]].columns[bep].name)\n",
    "                    cat_data['col_chars'].append(col_char)\n",
    "                    cat_data['units'].append(result[tables[tab]].columns[bep].unit)\n",
    "                    cat_data['values'].append(result[tables[tab]].columns[bep].value.data[-1])\n",
    "                    cat_data['descriptions'].append(result[tables[tab]].columns[bep].description)\n",
    "                    cat_data['catalogues'].append(result.values()[tab].meta['name'])\n",
    "                    cat_data['titles'].append(cat_dict[cat_name])\n",
    "                    cat_data['meta'].append(result[tables[tab]].meta['description'])\n",
    "                    cat_data['2MASS'].append(twoMASS)\n",
    "                    cat_data['altIDs'].append(alt_ID_str)\n",
    "\n",
    "    if 'alt_ID_str' in locals():\n",
    "        del alt_ID_str\n",
    "        \n",
    "    cat_df = pd.DataFrame(cat_data)\n",
    "    if len(cat_df) > 0:\n",
    "        cat_df.to_csv(save_dir + target + '.csv', index=False)\n",
    "    else:\n",
    "        nodat_targs[query_par].append(target)\n",
    "        print('\\nNo dat: ' + str(nodat_targs[query_par]))\n",
    "        \n",
    "    print('----------------------------------------------------------------')\n"
   ]
  },
  {
   "cell_type": "code",
   "execution_count": null,
   "metadata": {},
   "outputs": [],
   "source": []
  },
  {
   "cell_type": "code",
   "execution_count": null,
   "metadata": {},
   "outputs": [],
   "source": []
  },
  {
   "cell_type": "code",
   "execution_count": null,
   "metadata": {},
   "outputs": [],
   "source": [
    "\n"
   ]
  },
  {
   "cell_type": "code",
   "execution_count": null,
   "metadata": {},
   "outputs": [],
   "source": []
  },
  {
   "cell_type": "code",
   "execution_count": null,
   "metadata": {},
   "outputs": [],
   "source": []
  },
  {
   "cell_type": "code",
   "execution_count": null,
   "metadata": {},
   "outputs": [],
   "source": [
    "\n"
   ]
  },
  {
   "cell_type": "code",
   "execution_count": null,
   "metadata": {},
   "outputs": [],
   "source": []
  },
  {
   "cell_type": "code",
   "execution_count": null,
   "metadata": {},
   "outputs": [],
   "source": []
  },
  {
   "cell_type": "code",
   "execution_count": null,
   "metadata": {},
   "outputs": [],
   "source": []
  },
  {
   "cell_type": "code",
   "execution_count": null,
   "metadata": {},
   "outputs": [],
   "source": []
  },
  {
   "cell_type": "code",
   "execution_count": null,
   "metadata": {},
   "outputs": [],
   "source": []
  },
  {
   "cell_type": "code",
   "execution_count": null,
   "metadata": {},
   "outputs": [],
   "source": []
  },
  {
   "cell_type": "code",
   "execution_count": null,
   "metadata": {},
   "outputs": [],
   "source": []
  },
  {
   "cell_type": "code",
   "execution_count": null,
   "metadata": {},
   "outputs": [],
   "source": []
  }
 ],
 "metadata": {
  "kernelspec": {
   "display_name": "pyKLIP",
   "language": "python",
   "name": "python3"
  },
  "language_info": {
   "codemirror_mode": {
    "name": "ipython",
    "version": 3
   },
   "file_extension": ".py",
   "mimetype": "text/x-python",
   "name": "python",
   "nbconvert_exporter": "python",
   "pygments_lexer": "ipython3",
   "version": "3.9.16 | packaged by conda-forge | (main, Feb  1 2023, 21:42:20) \n[Clang 14.0.6 ]"
  },
  "orig_nbformat": 4,
  "vscode": {
   "interpreter": {
    "hash": "400fa321f4b4e1355aaa3e293836dfaa3e2be346b9bde8c8443fb8a84ac478bc"
   }
  }
 },
 "nbformat": 4,
 "nbformat_minor": 2
}
